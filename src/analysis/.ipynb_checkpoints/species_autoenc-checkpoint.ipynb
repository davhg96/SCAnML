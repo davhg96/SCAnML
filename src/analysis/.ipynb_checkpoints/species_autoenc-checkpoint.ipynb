{
 "cells": [
  {
   "cell_type": "code",
   "execution_count": 1,
   "id": "suffering-patent",
   "metadata": {},
   "outputs": [
    {
     "name": "stdout",
     "output_type": "stream",
     "text": [
      "/Users/student/LUNI/SCvsSN\n"
     ]
    }
   ],
   "source": [
    "cd ~/LUNI/SCAnML"
   ]
  },
  {
   "cell_type": "code",
   "execution_count": 2,
   "id": "silver-agriculture",
   "metadata": {},
   "outputs": [],
   "source": [
    "import os\n",
    "import warnings\n",
    "warnings.simplefilter(action='ignore', category=FutureWarning)\n",
    "warnings.simplefilter(action='ignore', category=UserWarning)"
   ]
  },
  {
   "cell_type": "code",
   "execution_count": 3,
   "id": "portuguese-walter",
   "metadata": {},
   "outputs": [],
   "source": [
    "import scanpy as sc\n",
    "import torch\n",
    "import scarches as sca\n",
    "import scvi.data\n",
    "import scarches.dataset \n",
    "import matplotlib.pyplot as plt\n",
    "import numpy as np\n",
    "import gdown"
   ]
  },
  {
   "cell_type": "code",
   "execution_count": 4,
   "id": "driven-occurrence",
   "metadata": {},
   "outputs": [],
   "source": [
    "sc.settings.set_figure_params(dpi=200, frameon=False)\n",
    "sc.set_figure_params(dpi=200)\n",
    "sc.set_figure_params(figsize=(4, 4))\n",
    "torch.set_printoptions(precision=3, sci_mode=False, edgeitems=7)"
   ]
  },
  {
   "cell_type": "code",
   "execution_count": 5,
   "id": "large-central",
   "metadata": {},
   "outputs": [],
   "source": [
    "condition_key = 'sample'\n",
    "cell_type_key = 'species'\n",
    "target_conditions = ['rat39_3ac']\n",
    "\n",
    "vae_epochs = 500\n",
    "scanvi_epochs = 200\n",
    "surgery_epochs = 500\n",
    "\n",
    "early_stopping_kwargs = {\n",
    "    \"early_stopping_metric\": \"elbo\",\n",
    "    \"save_best_state_metric\": \"elbo\",\n",
    "    \"patience\": 10,\n",
    "    \"threshold\": 0,\n",
    "    \"reduce_lr_on_plateau\": True,\n",
    "    \"lr_patience\": 8,\n",
    "    \"lr_factor\": 0.1,\n",
    "}\n",
    "early_stopping_kwargs_scanvi = {\n",
    "    \"early_stopping_metric\": \"accuracy\",\n",
    "    \"save_best_state_metric\": \"accuracy\",\n",
    "    \"on\": \"full_dataset\",\n",
    "    \"patience\": 10,\n",
    "    \"threshold\": 0.001,\n",
    "    \"reduce_lr_on_plateau\": True,\n",
    "    \"lr_patience\": 8,\n",
    "    \"lr_factor\": 0.1,\n",
    "}\n",
    "early_stopping_kwargs_surgery = {\n",
    "    \"early_stopping_metric\": \"elbo\",\n",
    "    \"save_best_state_metric\": \"elbo\",\n",
    "    \"on\": \"full_dataset\",\n",
    "    \"patience\": 10,\n",
    "    \"threshold\": 0.001,\n",
    "    \"reduce_lr_on_plateau\": True,\n",
    "    \"lr_patience\": 8,\n",
    "    \"lr_factor\": 0.1,\n",
    "}"
   ]
  },
  {
   "cell_type": "code",
   "execution_count": 6,
   "id": "funny-bennett",
   "metadata": {},
   "outputs": [
    {
     "name": "stderr",
     "output_type": "stream",
     "text": [
      "Observation names are not unique. To make them unique, call `.obs_names_make_unique`.\n"
     ]
    },
    {
     "data": {
      "text/plain": [
       "<bound method AnnData.obs_names_make_unique of AnnData object with n_obs × n_vars = 5159 × 7353\n",
       "    obs: 'sample', 'n_genes', 'n_genes_by_counts', 'total_counts', 'total_counts_mt', 'pct_counts_mt', 'total_counts_human', 'pct_counts_human', 'total_counts_rat', 'pct_counts_rat', 'species', 'leiden'\n",
       "    var: 'gene_ids', 'feature_types', 'n_cells', 'mt', 'human', 'rat', 'n_cells_by_counts', 'mean_counts', 'pct_dropout_by_counts', 'total_counts', 'highly_variable', 'means', 'dispersions', 'dispersions_norm', 'mean', 'std'\n",
       "    uns: 'hvg', 'leiden', 'leiden_colors', 'neighbors', 'pca', 'sample_colors', 'species_colors', 'umap'\n",
       "    obsm: 'X_pca', 'X_umap'\n",
       "    varm: 'PCs'\n",
       "    obsp: 'connectivities', 'distances'>"
      ]
     },
     "execution_count": 6,
     "metadata": {},
     "output_type": "execute_result"
    }
   ],
   "source": [
    "adata_all = sc.read('data/multispecies_concat.h5ad')\n",
    "adata_all.obs_names_make_unique"
   ]
  },
  {
   "cell_type": "code",
   "execution_count": 7,
   "id": "historic-treatment",
   "metadata": {},
   "outputs": [
    {
     "name": "stderr",
     "output_type": "stream",
     "text": [
      "Observation names are not unique. To make them unique, call `.obs_names_make_unique`.\n",
      "Observation names are not unique. To make them unique, call `.obs_names_make_unique`.\n"
     ]
    }
   ],
   "source": [
    "adata = adata_all.raw.to_adata()\n",
    "source_adata = adata[~adata.obs[condition_key].isin(target_conditions)].copy()\n",
    "target_adata = adata[adata.obs[condition_key].isin(target_conditions)].copy()"
   ]
  },
  {
   "cell_type": "code",
   "execution_count": 8,
   "id": "electronic-isaac",
   "metadata": {},
   "outputs": [
    {
     "data": {
      "text/plain": [
       "AnnData object with n_obs × n_vars = 3879 × 31872\n",
       "    obs: 'sample', 'n_genes', 'n_genes_by_counts', 'total_counts', 'total_counts_mt', 'pct_counts_mt', 'total_counts_human', 'pct_counts_human', 'total_counts_rat', 'pct_counts_rat', 'species', 'leiden'\n",
       "    var: 'gene_ids', 'feature_types', 'n_cells', 'mt', 'human', 'rat', 'n_cells_by_counts', 'mean_counts', 'pct_dropout_by_counts', 'total_counts', 'highly_variable', 'means', 'dispersions', 'dispersions_norm'\n",
       "    uns: 'hvg', 'leiden', 'leiden_colors', 'neighbors', 'pca', 'sample_colors', 'species_colors', 'umap'\n",
       "    obsm: 'X_pca', 'X_umap'"
      ]
     },
     "execution_count": 8,
     "metadata": {},
     "output_type": "execute_result"
    }
   ],
   "source": [
    "source_adata"
   ]
  },
  {
   "cell_type": "code",
   "execution_count": 9,
   "id": "champion-technical",
   "metadata": {},
   "outputs": [
    {
     "data": {
      "text/plain": [
       "AnnData object with n_obs × n_vars = 1280 × 31872\n",
       "    obs: 'sample', 'n_genes', 'n_genes_by_counts', 'total_counts', 'total_counts_mt', 'pct_counts_mt', 'total_counts_human', 'pct_counts_human', 'total_counts_rat', 'pct_counts_rat', 'species', 'leiden'\n",
       "    var: 'gene_ids', 'feature_types', 'n_cells', 'mt', 'human', 'rat', 'n_cells_by_counts', 'mean_counts', 'pct_dropout_by_counts', 'total_counts', 'highly_variable', 'means', 'dispersions', 'dispersions_norm'\n",
       "    uns: 'hvg', 'leiden', 'leiden_colors', 'neighbors', 'pca', 'sample_colors', 'species_colors', 'umap'\n",
       "    obsm: 'X_pca', 'X_umap'"
      ]
     },
     "execution_count": 9,
     "metadata": {},
     "output_type": "execute_result"
    }
   ],
   "source": [
    "target_adata"
   ]
  },
  {
   "cell_type": "code",
   "execution_count": 10,
   "id": "outer-princeton",
   "metadata": {},
   "outputs": [
    {
     "name": "stdout",
     "output_type": "stream",
     "text": [
      "\u001b[34mINFO    \u001b[0m Using batches from adata.obs\u001b[1m[\u001b[0m\u001b[32m\"sample\"\u001b[0m\u001b[1m]\u001b[0m                                              \n",
      "\u001b[34mINFO    \u001b[0m Using labels from adata.obs\u001b[1m[\u001b[0m\u001b[32m\"species\"\u001b[0m\u001b[1m]\u001b[0m                                              \n",
      "\u001b[34mINFO    \u001b[0m Using data from adata.X                                                             \n",
      "\u001b[34mINFO    \u001b[0m Computing library size prior per batch                                              \n",
      "\u001b[34mINFO    \u001b[0m Successfully registered anndata object containing \u001b[1;34m3879\u001b[0m cells, \u001b[1;34m31872\u001b[0m vars, \u001b[1;34m4\u001b[0m batches,\n",
      "         \u001b[1;34m2\u001b[0m labels, and \u001b[1;34m0\u001b[0m proteins. Also registered \u001b[1;34m0\u001b[0m extra categorical covariates and \u001b[1;34m0\u001b[0m extra\n",
      "         continuous covariates.                                                              \n",
      "\u001b[34mINFO    \u001b[0m Please do not further modify adata until model is trained.                          \n"
     ]
    }
   ],
   "source": [
    "sca.dataset.setup_anndata(source_adata, batch_key=condition_key, labels_key=cell_type_key)"
   ]
  },
  {
   "cell_type": "raw",
   "id": "meaning-victor",
   "metadata": {},
   "source": [
    "Create the model"
   ]
  },
  {
   "cell_type": "code",
   "execution_count": 11,
   "id": "liked-satellite",
   "metadata": {},
   "outputs": [
    {
     "name": "stdout",
     "output_type": "stream",
     "text": [
      "\u001b[31mWARNING \u001b[0m Make sure the registered X field in anndata contains unnormalized count data.       \n"
     ]
    }
   ],
   "source": [
    "vae = sca.models.SCANVI(\n",
    "    source_adata,\n",
    "    \"Unknown\",\n",
    "    n_layers=2,\n",
    "    encode_covariates=True,\n",
    "    deeply_inject_covariates=False,\n",
    "    use_layer_norm=\"both\",\n",
    "    use_batch_norm=\"none\",\n",
    ")"
   ]
  },
  {
   "cell_type": "code",
   "execution_count": 12,
   "id": "statutory-contemporary",
   "metadata": {},
   "outputs": [
    {
     "name": "stdout",
     "output_type": "stream",
     "text": [
      "Labelled Indices:  3879\n",
      "Unlabelled Indices:  0\n"
     ]
    }
   ],
   "source": [
    "print(\"Labelled Indices: \", len(vae._labeled_indices))\n",
    "print(\"Unlabelled Indices: \", len(vae._unlabeled_indices))"
   ]
  },
  {
   "cell_type": "code",
   "execution_count": null,
   "id": "heard-visibility",
   "metadata": {},
   "outputs": [
    {
     "name": "stdout",
     "output_type": "stream",
     "text": [
      "\u001b[34mINFO    \u001b[0m Training Unsupervised Trainer for \u001b[1;34m500\u001b[0m epochs.                                       \n",
      "\u001b[34mINFO    \u001b[0m Training SemiSupervised Trainer for \u001b[1;34m200\u001b[0m epochs.                                     \n",
      "\u001b[34mINFO    \u001b[0m KL warmup for \u001b[1;34m400\u001b[0m epochs                                                            \n",
      "Training...:   3%|▎         | 15/500 [14:10<8:31:03, 63.22s/it]"
     ]
    }
   ],
   "source": [
    "vae.train(\n",
    "    n_epochs_unsupervised=vae_epochs,\n",
    "    n_epochs_semisupervised=scanvi_epochs,\n",
    "    unsupervised_trainer_kwargs=dict(early_stopping_kwargs=early_stopping_kwargs),\n",
    "    semisupervised_trainer_kwargs=dict(metrics_to_monitor=[\"elbo\", \"accuracy\"],\n",
    "                                       early_stopping_kwargs=early_stopping_kwargs_scanvi),\n",
    "    frequency=1\n",
    ")"
   ]
  },
  {
   "cell_type": "code",
   "execution_count": null,
   "id": "varied-county",
   "metadata": {},
   "outputs": [],
   "source": [
    "reference_latent = sc.AnnData(vae.get_latent_representation())\n",
    "reference_latent.obs[\"species\"] = source_adata.obs[cell_type_key].tolist()\n",
    "reference_latent.obs[\"sample\"] = source_adata.obs[condition_key].tolist()"
   ]
  },
  {
   "cell_type": "code",
   "execution_count": null,
   "id": "furnished-optimum",
   "metadata": {},
   "outputs": [],
   "source": [
    "sc.pp.neighbors(reference_latent, n_neighbors=8)\n",
    "sc.tl.leiden(reference_latent)\n",
    "sc.tl.umap(reference_latent)\n",
    "sc.pl.umap(reference_latent,\n",
    "           color=['batch', 'cell_type'],\n",
    "           frameon=False,\n",
    "           wspace=0.6,\n",
    "           )"
   ]
  },
  {
   "cell_type": "code",
   "execution_count": null,
   "id": "seventh-maldives",
   "metadata": {},
   "outputs": [],
   "source": [
    "reference_latent.obs['predictions'] = vae.predict()\n",
    "print(\"Acc: {}\".format(np.mean(reference_latent.obs.predictions == reference_latent.obs.cell_type)))"
   ]
  },
  {
   "cell_type": "code",
   "execution_count": null,
   "id": "dress-agency",
   "metadata": {},
   "outputs": [],
   "source": [
    "ref_path = 'models/'\n",
    "vae.save(ref_path, overwrite=True)"
   ]
  },
  {
   "cell_type": "raw",
   "id": "musical-failing",
   "metadata": {},
   "source": [
    "Perform surgery on reference model and train on query dataset without cell type labels"
   ]
  },
  {
   "cell_type": "code",
   "execution_count": null,
   "id": "frank-marker",
   "metadata": {},
   "outputs": [],
   "source": [
    "target_adata.obs['orig_cell_types'] = target_adata.obs[cell_type_key].copy()\n",
    "target_adata.obs[cell_type_key] = vae.unlabeled_category_"
   ]
  },
  {
   "cell_type": "code",
   "execution_count": null,
   "id": "reported-cradle",
   "metadata": {},
   "outputs": [],
   "source": [
    "target_adata.obs[cell_type_key] = vae.unlabeled_category_"
   ]
  },
  {
   "cell_type": "code",
   "execution_count": null,
   "id": "congressional-script",
   "metadata": {},
   "outputs": [],
   "source": [
    "model = sca.models.SCANVI.load_query_data(\n",
    "    target_adata,\n",
    "    ref_path,\n",
    "    freeze_dropout = True,\n",
    ")\n",
    "model._unlabeled_indices = np.arange(target_adata.n_obs)\n",
    "model._labeled_indices = []\n",
    "print(\"Labelled Indices: \", len(model._labeled_indices))\n",
    "print(\"Unlabelled Indices: \", len(model._unlabeled_indices))"
   ]
  },
  {
   "cell_type": "code",
   "execution_count": null,
   "id": "harmful-voluntary",
   "metadata": {},
   "outputs": [],
   "source": [
    "model.train(\n",
    "    n_epochs_semisupervised=surgery_epochs,\n",
    "    train_base_model=False,\n",
    "    semisupervised_trainer_kwargs=dict(metrics_to_monitor=[\"accuracy\", \"elbo\"],\n",
    "                                       weight_decay=0,\n",
    "                                       early_stopping_kwargs=early_stopping_kwargs_surgery\n",
    "                                      ),\n",
    "    frequency=1\n",
    ")"
   ]
  },
  {
   "cell_type": "code",
   "execution_count": null,
   "id": "operational-company",
   "metadata": {},
   "outputs": [],
   "source": [
    "query_latent = sc.AnnData(model.get_latent_representation())\n",
    "query_latent.obs['species'] = target_adata.obs[cell_type_key].tolist()\n",
    "query_latent.obs['sample'] = target_adata.obs[condition_key].tolist()"
   ]
  },
  {
   "cell_type": "code",
   "execution_count": null,
   "id": "hairy-damages",
   "metadata": {},
   "outputs": [],
   "source": [
    "sc.pp.neighbors(query_latent)\n",
    "sc.tl.leiden(query_latent)\n",
    "sc.tl.umap(query_latent)\n",
    "plt.figure()\n",
    "sc.pl.umap(\n",
    "    query_latent,\n",
    "    color=[\"batch\", \"cell_type\"],\n",
    "    frameon=False,\n",
    "    wspace=0.6,\n",
    ")"
   ]
  },
  {
   "cell_type": "code",
   "execution_count": null,
   "id": "union-chemical",
   "metadata": {},
   "outputs": [],
   "source": [
    "surgery_path = 'models/surgery_model'\n",
    "model.save(surgery_path, overwrite=True)"
   ]
  },
  {
   "cell_type": "raw",
   "id": "mobile-tunnel",
   "metadata": {},
   "source": [
    "Compute accuracy"
   ]
  },
  {
   "cell_type": "code",
   "execution_count": null,
   "id": "dangerous-making",
   "metadata": {},
   "outputs": [],
   "source": [
    "query_latent.obs['predictions'] = model.predict()\n",
    "print(\"Acc: {}\".format(np.mean(query_latent.obs.predictions == query_latent.obs.cell_type)))"
   ]
  },
  {
   "cell_type": "code",
   "execution_count": null,
   "id": "active-municipality",
   "metadata": {},
   "outputs": [],
   "source": [
    "df = query_latent.obs.groupby([\"cell_type\", \"predictions\"]).size().unstack(fill_value=0)\n",
    "norm_df = df / df.sum(axis=0)\n",
    "\n",
    "plt.figure(figsize=(8, 8))\n",
    "_ = plt.pcolor(norm_df)\n",
    "_ = plt.xticks(np.arange(0.5, len(df.columns), 1), df.columns, rotation=90)\n",
    "_ = plt.yticks(np.arange(0.5, len(df.index), 1), df.index)\n",
    "plt.xlabel(\"Predicted\")\n",
    "plt.ylabel(\"Observed\")"
   ]
  },
  {
   "cell_type": "raw",
   "id": "forty-transparency",
   "metadata": {},
   "source": [
    "Get latent representation of reference + query dataset and compute UMAP"
   ]
  },
  {
   "cell_type": "code",
   "execution_count": null,
   "id": "victorian-wells",
   "metadata": {},
   "outputs": [],
   "source": [
    "adata_full = source_adata.concatenate(target_adata)\n",
    "full_latent = sc.AnnData(model.get_latent_representation(adata=adata_full))\n",
    "full_latent.obs['cell_type'] = adata_full.obs[cell_type_key].tolist()\n",
    "full_latent.obs['batch'] = adata_full.obs[condition_key].tolist()"
   ]
  },
  {
   "cell_type": "code",
   "execution_count": null,
   "id": "delayed-transfer",
   "metadata": {},
   "outputs": [],
   "source": [
    "\n",
    "sc.pp.neighbors(full_latent)\n",
    "sc.tl.leiden(full_latent)\n",
    "sc.tl.umap(full_latent)\n",
    "plt.figure()\n",
    "sc.pl.umap(\n",
    "    full_latent,\n",
    "    color=[\"sample\", \"species\"],\n",
    "    frameon=False,\n",
    "    wspace=0.6,\n",
    ")"
   ]
  },
  {
   "cell_type": "raw",
   "id": "conditional-holder",
   "metadata": {},
   "source": [
    "Comparison of observed and predicted celltypes for reference + query dataset"
   ]
  },
  {
   "cell_type": "code",
   "execution_count": 2,
   "id": "labeled-franchise",
   "metadata": {},
   "outputs": [
    {
     "ename": "NameError",
     "evalue": "name 'model' is not defined",
     "output_type": "error",
     "traceback": [
      "\u001b[0;31m---------------------------------------------------------------------------\u001b[0m",
      "\u001b[0;31mNameError\u001b[0m                                 Traceback (most recent call last)",
      "\u001b[0;32m<ipython-input-2-e5f50852ba04>\u001b[0m in \u001b[0;36m<module>\u001b[0;34m\u001b[0m\n\u001b[0;32m----> 1\u001b[0;31m \u001b[0mfull_latent\u001b[0m\u001b[0;34m.\u001b[0m\u001b[0mobs\u001b[0m\u001b[0;34m[\u001b[0m\u001b[0;34m'predictions'\u001b[0m\u001b[0;34m]\u001b[0m \u001b[0;34m=\u001b[0m \u001b[0mmodel\u001b[0m\u001b[0;34m.\u001b[0m\u001b[0mpredict\u001b[0m\u001b[0;34m(\u001b[0m\u001b[0madata\u001b[0m\u001b[0;34m=\u001b[0m\u001b[0madata_full\u001b[0m\u001b[0;34m)\u001b[0m\u001b[0;34m\u001b[0m\u001b[0;34m\u001b[0m\u001b[0m\n\u001b[0m\u001b[1;32m      2\u001b[0m \u001b[0mprint\u001b[0m\u001b[0;34m(\u001b[0m\u001b[0;34m\"Acc: {}\"\u001b[0m\u001b[0;34m.\u001b[0m\u001b[0mformat\u001b[0m\u001b[0;34m(\u001b[0m\u001b[0mnp\u001b[0m\u001b[0;34m.\u001b[0m\u001b[0mmean\u001b[0m\u001b[0;34m(\u001b[0m\u001b[0mfull_latent\u001b[0m\u001b[0;34m.\u001b[0m\u001b[0mobs\u001b[0m\u001b[0;34m.\u001b[0m\u001b[0mpredictions\u001b[0m \u001b[0;34m==\u001b[0m \u001b[0mfull_latent\u001b[0m\u001b[0;34m.\u001b[0m\u001b[0mobs\u001b[0m\u001b[0;34m.\u001b[0m\u001b[0mcell_type\u001b[0m\u001b[0;34m)\u001b[0m\u001b[0;34m)\u001b[0m\u001b[0;34m)\u001b[0m\u001b[0;34m\u001b[0m\u001b[0;34m\u001b[0m\u001b[0m\n",
      "\u001b[0;31mNameError\u001b[0m: name 'model' is not defined"
     ]
    }
   ],
   "source": [
    "full_latent.obs['predictions'] = model.predict(adata=adata_full)\n",
    "print(\"Acc: {}\".format(np.mean(full_latent.obs.predictions == full_latent.obs.cell_type)))"
   ]
  },
  {
   "cell_type": "code",
   "execution_count": null,
   "id": "inclusive-passport",
   "metadata": {},
   "outputs": [],
   "source": [
    "sc.pp.neighbors(full_latent)\n",
    "sc.tl.leiden(full_latent)\n",
    "sc.tl.umap(full_latent)\n",
    "plt.figure()\n",
    "sc.pl.umap(\n",
    "    full_latent,\n",
    "    color=[\"predictions\", \"cell_type\"],\n",
    "    frameon=False,\n",
    "    wspace=0.6,\n",
    ")"
   ]
  },
  {
   "cell_type": "code",
   "execution_count": null,
   "id": "incoming-dallas",
   "metadata": {},
   "outputs": [],
   "source": []
  }
 ],
 "metadata": {
  "kernelspec": {
   "display_name": "Python 3",
   "language": "python",
   "name": "python3"
  },
  "language_info": {
   "codemirror_mode": {
    "name": "ipython",
    "version": 3
   },
   "file_extension": ".py",
   "mimetype": "text/x-python",
   "name": "python",
   "nbconvert_exporter": "python",
   "pygments_lexer": "ipython3",
   "version": "3.7.9"
  }
 },
 "nbformat": 4,
 "nbformat_minor": 5
}
