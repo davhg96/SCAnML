{
 "cells": [
  {
   "cell_type": "code",
   "execution_count": 1,
   "id": "suburban-juice",
   "metadata": {},
   "outputs": [
    {
     "name": "stdout",
     "output_type": "stream",
     "text": [
      "/Users/student/LUNI/SCvsSN\n"
     ]
    }
   ],
   "source": [
    "cd ~/LUNI/SCvsSN"
   ]
  },
  {
   "cell_type": "code",
   "execution_count": 3,
   "id": "charming-schedule",
   "metadata": {},
   "outputs": [],
   "source": [
    "import os\n",
    "import warnings\n",
    "warnings.simplefilter(action='ignore', category=FutureWarning)\n",
    "warnings.simplefilter(action='ignore', category=UserWarning)"
   ]
  },
  {
   "cell_type": "code",
   "execution_count": 15,
   "id": "boring-albuquerque",
   "metadata": {},
   "outputs": [
    {
     "ename": "ModuleNotFoundError",
     "evalue": "No module named 'scarches.dataset'",
     "output_type": "error",
     "traceback": [
      "\u001b[0;31m---------------------------------------------------------------------------\u001b[0m",
      "\u001b[0;31mModuleNotFoundError\u001b[0m                       Traceback (most recent call last)",
      "\u001b[0;32m<ipython-input-15-2b42f0b5aa96>\u001b[0m in \u001b[0;36m<module>\u001b[0;34m\u001b[0m\n\u001b[1;32m      2\u001b[0m \u001b[0;32mimport\u001b[0m \u001b[0mtorch\u001b[0m\u001b[0;34m\u001b[0m\u001b[0;34m\u001b[0m\u001b[0m\n\u001b[1;32m      3\u001b[0m \u001b[0;32mimport\u001b[0m \u001b[0mscarches\u001b[0m \u001b[0;32mas\u001b[0m \u001b[0msca\u001b[0m\u001b[0;34m\u001b[0m\u001b[0;34m\u001b[0m\u001b[0m\n\u001b[0;32m----> 4\u001b[0;31m \u001b[0;32mimport\u001b[0m \u001b[0mscarches\u001b[0m\u001b[0;34m.\u001b[0m\u001b[0mdataset\u001b[0m\u001b[0;34m.\u001b[0m\u001b[0mtrvae\u001b[0m\u001b[0;34m.\u001b[0m\u001b[0mdata_handling\u001b[0m\u001b[0;34m\u001b[0m\u001b[0;34m\u001b[0m\u001b[0m\n\u001b[0m\u001b[1;32m      5\u001b[0m \u001b[0;32mimport\u001b[0m \u001b[0mmatplotlib\u001b[0m\u001b[0;34m.\u001b[0m\u001b[0mpyplot\u001b[0m \u001b[0;32mas\u001b[0m \u001b[0mplt\u001b[0m\u001b[0;34m\u001b[0m\u001b[0;34m\u001b[0m\u001b[0m\n\u001b[1;32m      6\u001b[0m \u001b[0;32mimport\u001b[0m \u001b[0mnumpy\u001b[0m \u001b[0;32mas\u001b[0m \u001b[0mnp\u001b[0m\u001b[0;34m\u001b[0m\u001b[0;34m\u001b[0m\u001b[0m\n",
      "\u001b[0;31mModuleNotFoundError\u001b[0m: No module named 'scarches.dataset'"
     ]
    }
   ],
   "source": [
    "import scanpy as sc\n",
    "import torch\n",
    "import scarches as sca\n",
    "from scarches.dataset import remove s\n",
    "import matplotlib.pyplot as plt\n",
    "import numpy as np\n",
    "import gdown"
   ]
  },
  {
   "cell_type": "code",
   "execution_count": 7,
   "id": "inside-empty",
   "metadata": {},
   "outputs": [],
   "source": [
    "sc.settings.set_figure_params(dpi=200, frameon=False)\n",
    "sc.set_figure_params(dpi=200)\n",
    "sc.set_figure_params(figsize=(4, 4))\n",
    "torch.set_printoptions(precision=3, sci_mode=False, edgeitems=7)"
   ]
  },
  {
   "cell_type": "code",
   "execution_count": 8,
   "id": "funny-diameter",
   "metadata": {},
   "outputs": [],
   "source": [
    "condition_key = 'sample'\n",
    "cell_type_key = 'species'\n",
    "target_conditions = ['rat39_3ac']\n",
    "\n",
    "vae_epochs = 500\n",
    "scanvi_epochs = 200\n",
    "surgery_epochs = 500\n",
    "\n",
    "early_stopping_kwargs = {\n",
    "    \"early_stopping_metric\": \"elbo\",\n",
    "    \"save_best_state_metric\": \"elbo\",\n",
    "    \"patience\": 10,\n",
    "    \"threshold\": 0,\n",
    "    \"reduce_lr_on_plateau\": True,\n",
    "    \"lr_patience\": 8,\n",
    "    \"lr_factor\": 0.1,\n",
    "}\n",
    "early_stopping_kwargs_scanvi = {\n",
    "    \"early_stopping_metric\": \"accuracy\",\n",
    "    \"save_best_state_metric\": \"accuracy\",\n",
    "    \"on\": \"full_dataset\",\n",
    "    \"patience\": 10,\n",
    "    \"threshold\": 0.001,\n",
    "    \"reduce_lr_on_plateau\": True,\n",
    "    \"lr_patience\": 8,\n",
    "    \"lr_factor\": 0.1,\n",
    "}\n",
    "early_stopping_kwargs_surgery = {\n",
    "    \"early_stopping_metric\": \"elbo\",\n",
    "    \"save_best_state_metric\": \"elbo\",\n",
    "    \"on\": \"full_dataset\",\n",
    "    \"patience\": 10,\n",
    "    \"threshold\": 0.001,\n",
    "    \"reduce_lr_on_plateau\": True,\n",
    "    \"lr_patience\": 8,\n",
    "    \"lr_factor\": 0.1,\n",
    "}"
   ]
  },
  {
   "cell_type": "code",
   "execution_count": 9,
   "id": "pacific-andrews",
   "metadata": {},
   "outputs": [
    {
     "name": "stderr",
     "output_type": "stream",
     "text": [
      "Observation names are not unique. To make them unique, call `.obs_names_make_unique`.\n"
     ]
    }
   ],
   "source": [
    "adata_all = sc.read('data/multispecies_concat.h5ad')"
   ]
  },
  {
   "cell_type": "code",
   "execution_count": 11,
   "id": "center-producer",
   "metadata": {},
   "outputs": [
    {
     "name": "stderr",
     "output_type": "stream",
     "text": [
      "Observation names are not unique. To make them unique, call `.obs_names_make_unique`.\n",
      "Observation names are not unique. To make them unique, call `.obs_names_make_unique`.\n"
     ]
    }
   ],
   "source": [
    "adata = adata_all.raw.to_adata()\n",
    "source_adata = adata[~adata.obs[condition_key].isin(target_conditions)].copy()\n",
    "target_adata = adata[adata.obs[condition_key].isin(target_conditions)].copy()"
   ]
  },
  {
   "cell_type": "code",
   "execution_count": 12,
   "id": "protective-requirement",
   "metadata": {},
   "outputs": [
    {
     "data": {
      "text/plain": [
       "AnnData object with n_obs × n_vars = 3879 × 31872\n",
       "    obs: 'sample', 'n_genes', 'n_genes_by_counts', 'total_counts', 'total_counts_mt', 'pct_counts_mt', 'total_counts_human', 'pct_counts_human', 'total_counts_rat', 'pct_counts_rat', 'species', 'leiden'\n",
       "    var: 'gene_ids', 'feature_types', 'n_cells', 'mt', 'human', 'rat', 'n_cells_by_counts', 'mean_counts', 'pct_dropout_by_counts', 'total_counts', 'highly_variable', 'means', 'dispersions', 'dispersions_norm'\n",
       "    uns: 'hvg', 'leiden', 'leiden_colors', 'neighbors', 'pca', 'sample_colors', 'species_colors', 'umap'\n",
       "    obsm: 'X_pca', 'X_umap'"
      ]
     },
     "execution_count": 12,
     "metadata": {},
     "output_type": "execute_result"
    }
   ],
   "source": [
    "source_adata"
   ]
  },
  {
   "cell_type": "code",
   "execution_count": 13,
   "id": "incorrect-northeast",
   "metadata": {},
   "outputs": [
    {
     "data": {
      "text/plain": [
       "AnnData object with n_obs × n_vars = 1280 × 31872\n",
       "    obs: 'sample', 'n_genes', 'n_genes_by_counts', 'total_counts', 'total_counts_mt', 'pct_counts_mt', 'total_counts_human', 'pct_counts_human', 'total_counts_rat', 'pct_counts_rat', 'species', 'leiden'\n",
       "    var: 'gene_ids', 'feature_types', 'n_cells', 'mt', 'human', 'rat', 'n_cells_by_counts', 'mean_counts', 'pct_dropout_by_counts', 'total_counts', 'highly_variable', 'means', 'dispersions', 'dispersions_norm'\n",
       "    uns: 'hvg', 'leiden', 'leiden_colors', 'neighbors', 'pca', 'sample_colors', 'species_colors', 'umap'\n",
       "    obsm: 'X_pca', 'X_umap'"
      ]
     },
     "execution_count": 13,
     "metadata": {},
     "output_type": "execute_result"
    }
   ],
   "source": [
    "target_adata"
   ]
  },
  {
   "cell_type": "code",
   "execution_count": 14,
   "id": "specialized-incentive",
   "metadata": {},
   "outputs": [
    {
     "ename": "AttributeError",
     "evalue": "module 'scarches' has no attribute 'dataset'",
     "output_type": "error",
     "traceback": [
      "\u001b[0;31m---------------------------------------------------------------------------\u001b[0m",
      "\u001b[0;31mAttributeError\u001b[0m                            Traceback (most recent call last)",
      "\u001b[0;32m<ipython-input-14-2a436ba7cc1f>\u001b[0m in \u001b[0;36m<module>\u001b[0;34m\u001b[0m\n\u001b[0;32m----> 1\u001b[0;31m \u001b[0msca\u001b[0m\u001b[0;34m.\u001b[0m\u001b[0mdataset\u001b[0m\u001b[0;34m.\u001b[0m\u001b[0msetup_anndata\u001b[0m\u001b[0;34m(\u001b[0m\u001b[0msource_adata\u001b[0m\u001b[0;34m,\u001b[0m \u001b[0mbatch_key\u001b[0m\u001b[0;34m=\u001b[0m\u001b[0mcondition_key\u001b[0m\u001b[0;34m,\u001b[0m \u001b[0mlabels_key\u001b[0m\u001b[0;34m=\u001b[0m\u001b[0mcell_type_key\u001b[0m\u001b[0;34m)\u001b[0m\u001b[0;34m\u001b[0m\u001b[0;34m\u001b[0m\u001b[0m\n\u001b[0m",
      "\u001b[0;31mAttributeError\u001b[0m: module 'scarches' has no attribute 'dataset'"
     ]
    }
   ],
   "source": [
    "sca.dataset.setup_anndata(source_adata, batch_key=condition_key, labels_key=cell_type_key)"
   ]
  },
  {
   "cell_type": "code",
   "execution_count": null,
   "id": "israeli-mainland",
   "metadata": {},
   "outputs": [],
   "source": [
    "vae = sca.models.SCANVI(\n",
    "    source_adata,\n",
    "    \"Unknown\",\n",
    "    n_layers=2,\n",
    "    encode_covariates=True,\n",
    "    deeply_inject_covariates=False,\n",
    "    use_layer_norm=\"both\",\n",
    "    use_batch_norm=\"none\",\n",
    ")"
   ]
  },
  {
   "cell_type": "code",
   "execution_count": null,
   "id": "significant-fruit",
   "metadata": {},
   "outputs": [],
   "source": [
    "print(\"Labelled Indices: \", len(vae._labeled_indices))\n",
    "print(\"Unlabelled Indices: \", len(vae._unlabeled_indices))"
   ]
  },
  {
   "cell_type": "code",
   "execution_count": 1,
   "id": "turned-pencil",
   "metadata": {},
   "outputs": [
    {
     "ename": "NameError",
     "evalue": "name 'vae' is not defined",
     "output_type": "error",
     "traceback": [
      "\u001b[0;31m---------------------------------------------------------------------------\u001b[0m",
      "\u001b[0;31mNameError\u001b[0m                                 Traceback (most recent call last)",
      "\u001b[0;32m<ipython-input-1-d682f12d66fe>\u001b[0m in \u001b[0;36m<module>\u001b[0;34m\u001b[0m\n\u001b[0;32m----> 1\u001b[0;31m vae.train(\n\u001b[0m\u001b[1;32m      2\u001b[0m     \u001b[0mn_epochs_unsupervised\u001b[0m\u001b[0;34m=\u001b[0m\u001b[0mvae_epochs\u001b[0m\u001b[0;34m,\u001b[0m\u001b[0;34m\u001b[0m\u001b[0;34m\u001b[0m\u001b[0m\n\u001b[1;32m      3\u001b[0m     \u001b[0mn_epochs_semisupervised\u001b[0m\u001b[0;34m=\u001b[0m\u001b[0mscanvi_epochs\u001b[0m\u001b[0;34m,\u001b[0m\u001b[0;34m\u001b[0m\u001b[0;34m\u001b[0m\u001b[0m\n\u001b[1;32m      4\u001b[0m     \u001b[0munsupervised_trainer_kwargs\u001b[0m\u001b[0;34m=\u001b[0m\u001b[0mdict\u001b[0m\u001b[0;34m(\u001b[0m\u001b[0mearly_stopping_kwargs\u001b[0m\u001b[0;34m=\u001b[0m\u001b[0mearly_stopping_kwargs\u001b[0m\u001b[0;34m)\u001b[0m\u001b[0;34m,\u001b[0m\u001b[0;34m\u001b[0m\u001b[0;34m\u001b[0m\u001b[0m\n\u001b[1;32m      5\u001b[0m     semisupervised_trainer_kwargs=dict(metrics_to_monitor=[\"elbo\", \"accuracy\"],\n",
      "\u001b[0;31mNameError\u001b[0m: name 'vae' is not defined"
     ]
    }
   ],
   "source": [
    "vae.train(\n",
    "    n_epochs_unsupervised=vae_epochs,\n",
    "    n_epochs_semisupervised=scanvi_epochs,\n",
    "    unsupervised_trainer_kwargs=dict(early_stopping_kwargs=early_stopping_kwargs),\n",
    "    semisupervised_trainer_kwargs=dict(metrics_to_monitor=[\"elbo\", \"accuracy\"],\n",
    "                                       early_stopping_kwargs=early_stopping_kwargs_scanvi),\n",
    "    frequency=1\n",
    ")"
   ]
  },
  {
   "cell_type": "code",
   "execution_count": null,
   "id": "separated-thumb",
   "metadata": {},
   "outputs": [],
   "source": [
    "reference_latent = sc.AnnData(vae.get_latent_representation())\n",
    "reference_latent.obs[\"species\"] = source_adata.obs[cell_type_key].tolist()\n",
    "reference_latent.obs[\"sample\"] = source_adata.obs[condition_key].tolist()"
   ]
  },
  {
   "cell_type": "code",
   "execution_count": null,
   "id": "lyric-still",
   "metadata": {},
   "outputs": [],
   "source": [
    "sc.pp.neighbors(reference_latent, n_neighbors=8)\n",
    "sc.tl.leiden(reference_latent)\n",
    "sc.tl.umap(reference_latent)\n",
    "sc.pl.umap(reference_latent,\n",
    "           color=['batch', 'cell_type'],\n",
    "           frameon=False,\n",
    "           wspace=0.6,\n",
    "           )"
   ]
  },
  {
   "cell_type": "code",
   "execution_count": null,
   "id": "three-following",
   "metadata": {},
   "outputs": [],
   "source": [
    "reference_latent.obs['predictions'] = vae.predict()\n",
    "print(\"Acc: {}\".format(np.mean(reference_latent.obs.predictions == reference_latent.obs.cell_type)))"
   ]
  },
  {
   "cell_type": "code",
   "execution_count": null,
   "id": "olive-outside",
   "metadata": {},
   "outputs": [],
   "source": [
    "ref_path = 'models/'\n",
    "vae.save(ref_path, overwrite=True)"
   ]
  },
  {
   "cell_type": "raw",
   "id": "chubby-dance",
   "metadata": {},
   "source": [
    "Perform surgery on reference model and train on query dataset without cell type labels"
   ]
  },
  {
   "cell_type": "code",
   "execution_count": null,
   "id": "educational-demographic",
   "metadata": {},
   "outputs": [],
   "source": [
    "target_adata.obs['orig_cell_types'] = target_adata.obs[cell_type_key].copy()\n",
    "target_adata.obs[cell_type_key] = vae.unlabeled_category_"
   ]
  },
  {
   "cell_type": "code",
   "execution_count": null,
   "id": "similar-female",
   "metadata": {},
   "outputs": [],
   "source": [
    "target_adata.obs[cell_type_key] = vae.unlabeled_category_"
   ]
  },
  {
   "cell_type": "code",
   "execution_count": null,
   "id": "destroyed-albuquerque",
   "metadata": {},
   "outputs": [],
   "source": [
    "model = sca.models.SCANVI.load_query_data(\n",
    "    target_adata,\n",
    "    ref_path,\n",
    "    freeze_dropout = True,\n",
    ")\n",
    "model._unlabeled_indices = np.arange(target_adata.n_obs)\n",
    "model._labeled_indices = []\n",
    "print(\"Labelled Indices: \", len(model._labeled_indices))\n",
    "print(\"Unlabelled Indices: \", len(model._unlabeled_indices))"
   ]
  },
  {
   "cell_type": "code",
   "execution_count": null,
   "id": "earned-flood",
   "metadata": {},
   "outputs": [],
   "source": [
    "model.train(\n",
    "    n_epochs_semisupervised=surgery_epochs,\n",
    "    train_base_model=False,\n",
    "    semisupervised_trainer_kwargs=dict(metrics_to_monitor=[\"accuracy\", \"elbo\"],\n",
    "                                       weight_decay=0,\n",
    "                                       early_stopping_kwargs=early_stopping_kwargs_surgery\n",
    "                                      ),\n",
    "    frequency=1\n",
    ")"
   ]
  },
  {
   "cell_type": "code",
   "execution_count": null,
   "id": "perceived-representative",
   "metadata": {},
   "outputs": [],
   "source": [
    "query_latent = sc.AnnData(model.get_latent_representation())\n",
    "query_latent.obs['species'] = target_adata.obs[cell_type_key].tolist()\n",
    "query_latent.obs['sample'] = target_adata.obs[condition_key].tolist()"
   ]
  },
  {
   "cell_type": "code",
   "execution_count": null,
   "id": "maritime-collins",
   "metadata": {},
   "outputs": [],
   "source": [
    "sc.pp.neighbors(query_latent)\n",
    "sc.tl.leiden(query_latent)\n",
    "sc.tl.umap(query_latent)\n",
    "plt.figure()\n",
    "sc.pl.umap(\n",
    "    query_latent,\n",
    "    color=[\"batch\", \"cell_type\"],\n",
    "    frameon=False,\n",
    "    wspace=0.6,\n",
    ")"
   ]
  },
  {
   "cell_type": "code",
   "execution_count": null,
   "id": "combined-mineral",
   "metadata": {},
   "outputs": [],
   "source": [
    "surgery_path = 'models/surgery_model'\n",
    "model.save(surgery_path, overwrite=True)"
   ]
  },
  {
   "cell_type": "raw",
   "id": "lucky-cleanup",
   "metadata": {},
   "source": [
    "Compute accuracy"
   ]
  },
  {
   "cell_type": "code",
   "execution_count": null,
   "id": "addressed-efficiency",
   "metadata": {},
   "outputs": [],
   "source": [
    "query_latent.obs['predictions'] = model.predict()\n",
    "print(\"Acc: {}\".format(np.mean(query_latent.obs.predictions == query_latent.obs.cell_type)))"
   ]
  },
  {
   "cell_type": "code",
   "execution_count": null,
   "id": "worse-booking",
   "metadata": {},
   "outputs": [],
   "source": [
    "df = query_latent.obs.groupby([\"cell_type\", \"predictions\"]).size().unstack(fill_value=0)\n",
    "norm_df = df / df.sum(axis=0)\n",
    "\n",
    "plt.figure(figsize=(8, 8))\n",
    "_ = plt.pcolor(norm_df)\n",
    "_ = plt.xticks(np.arange(0.5, len(df.columns), 1), df.columns, rotation=90)\n",
    "_ = plt.yticks(np.arange(0.5, len(df.index), 1), df.index)\n",
    "plt.xlabel(\"Predicted\")\n",
    "plt.ylabel(\"Observed\")"
   ]
  },
  {
   "cell_type": "raw",
   "id": "circular-proof",
   "metadata": {},
   "source": [
    "Get latent representation of reference + query dataset and compute UMAP"
   ]
  },
  {
   "cell_type": "code",
   "execution_count": null,
   "id": "sapphire-lodge",
   "metadata": {},
   "outputs": [],
   "source": [
    "adata_full = source_adata.concatenate(target_adata)\n",
    "full_latent = sc.AnnData(model.get_latent_representation(adata=adata_full))\n",
    "full_latent.obs['cell_type'] = adata_full.obs[cell_type_key].tolist()\n",
    "full_latent.obs['batch'] = adata_full.obs[condition_key].tolist()"
   ]
  },
  {
   "cell_type": "code",
   "execution_count": null,
   "id": "median-arbor",
   "metadata": {},
   "outputs": [],
   "source": [
    "\n",
    "sc.pp.neighbors(full_latent)\n",
    "sc.tl.leiden(full_latent)\n",
    "sc.tl.umap(full_latent)\n",
    "plt.figure()\n",
    "sc.pl.umap(\n",
    "    full_latent,\n",
    "    color=[\"sample\", \"species\"],\n",
    "    frameon=False,\n",
    "    wspace=0.6,\n",
    ")"
   ]
  },
  {
   "cell_type": "raw",
   "id": "environmental-lover",
   "metadata": {},
   "source": [
    "Comparison of observed and predicted celltypes for reference + query dataset"
   ]
  },
  {
   "cell_type": "code",
   "execution_count": 2,
   "id": "informative-launch",
   "metadata": {},
   "outputs": [
    {
     "ename": "NameError",
     "evalue": "name 'model' is not defined",
     "output_type": "error",
     "traceback": [
      "\u001b[0;31m---------------------------------------------------------------------------\u001b[0m",
      "\u001b[0;31mNameError\u001b[0m                                 Traceback (most recent call last)",
      "\u001b[0;32m<ipython-input-2-e5f50852ba04>\u001b[0m in \u001b[0;36m<module>\u001b[0;34m\u001b[0m\n\u001b[0;32m----> 1\u001b[0;31m \u001b[0mfull_latent\u001b[0m\u001b[0;34m.\u001b[0m\u001b[0mobs\u001b[0m\u001b[0;34m[\u001b[0m\u001b[0;34m'predictions'\u001b[0m\u001b[0;34m]\u001b[0m \u001b[0;34m=\u001b[0m \u001b[0mmodel\u001b[0m\u001b[0;34m.\u001b[0m\u001b[0mpredict\u001b[0m\u001b[0;34m(\u001b[0m\u001b[0madata\u001b[0m\u001b[0;34m=\u001b[0m\u001b[0madata_full\u001b[0m\u001b[0;34m)\u001b[0m\u001b[0;34m\u001b[0m\u001b[0;34m\u001b[0m\u001b[0m\n\u001b[0m\u001b[1;32m      2\u001b[0m \u001b[0mprint\u001b[0m\u001b[0;34m(\u001b[0m\u001b[0;34m\"Acc: {}\"\u001b[0m\u001b[0;34m.\u001b[0m\u001b[0mformat\u001b[0m\u001b[0;34m(\u001b[0m\u001b[0mnp\u001b[0m\u001b[0;34m.\u001b[0m\u001b[0mmean\u001b[0m\u001b[0;34m(\u001b[0m\u001b[0mfull_latent\u001b[0m\u001b[0;34m.\u001b[0m\u001b[0mobs\u001b[0m\u001b[0;34m.\u001b[0m\u001b[0mpredictions\u001b[0m \u001b[0;34m==\u001b[0m \u001b[0mfull_latent\u001b[0m\u001b[0;34m.\u001b[0m\u001b[0mobs\u001b[0m\u001b[0;34m.\u001b[0m\u001b[0mcell_type\u001b[0m\u001b[0;34m)\u001b[0m\u001b[0;34m)\u001b[0m\u001b[0;34m)\u001b[0m\u001b[0;34m\u001b[0m\u001b[0;34m\u001b[0m\u001b[0m\n",
      "\u001b[0;31mNameError\u001b[0m: name 'model' is not defined"
     ]
    }
   ],
   "source": [
    "full_latent.obs['predictions'] = model.predict(adata=adata_full)\n",
    "print(\"Acc: {}\".format(np.mean(full_latent.obs.predictions == full_latent.obs.cell_type)))"
   ]
  },
  {
   "cell_type": "code",
   "execution_count": null,
   "id": "satisfied-scholar",
   "metadata": {},
   "outputs": [],
   "source": [
    "sc.pp.neighbors(full_latent)\n",
    "sc.tl.leiden(full_latent)\n",
    "sc.tl.umap(full_latent)\n",
    "plt.figure()\n",
    "sc.pl.umap(\n",
    "    full_latent,\n",
    "    color=[\"predictions\", \"cell_type\"],\n",
    "    frameon=False,\n",
    "    wspace=0.6,\n",
    ")"
   ]
  },
  {
   "cell_type": "code",
   "execution_count": null,
   "id": "pending-blues",
   "metadata": {},
   "outputs": [],
   "source": []
  }
 ],
 "metadata": {
  "kernelspec": {
   "display_name": "Python 3",
   "language": "python",
   "name": "python3"
  },
  "language_info": {
   "codemirror_mode": {
    "name": "ipython",
    "version": 3
   },
   "file_extension": ".py",
   "mimetype": "text/x-python",
   "name": "python",
   "nbconvert_exporter": "python",
   "pygments_lexer": "ipython3",
   "version": "3.7.9"
  }
 },
 "nbformat": 4,
 "nbformat_minor": 5
}
