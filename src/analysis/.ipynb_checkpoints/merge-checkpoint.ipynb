{
 "cells": [
  {
   "cell_type": "code",
   "execution_count": 1,
   "metadata": {},
   "outputs": [
    {
     "name": "stdout",
     "output_type": "stream",
     "text": [
      "/Users/student/LUNI/SCvsSN/data/matrixes/mtxmultispecies\n"
     ]
    }
   ],
   "source": [
    "cd ~/LUNI/SCvsSN/data/matrixes/mtxmultispecies"
   ]
  },
  {
   "cell_type": "code",
   "execution_count": 2,
   "metadata": {},
   "outputs": [
    {
     "name": "stdout",
     "output_type": "stream",
     "text": [
      "mkdir: merged_dups: File exists\n"
     ]
    }
   ],
   "source": [
    "!mkdir merged_dups"
   ]
  },
  {
   "cell_type": "code",
   "execution_count": 15,
   "metadata": {},
   "outputs": [],
   "source": [
    "from scipy.io import mmread, mmwrite\n",
    "from scipy.sparse import vstack, hstack\n",
    "import pandas as pd"
   ]
  },
  {
   "cell_type": "code",
   "execution_count": 4,
   "metadata": {},
   "outputs": [
    {
     "data": {
      "text/plain": [
       "1577"
      ]
     },
     "execution_count": 4,
     "metadata": {},
     "output_type": "execute_result"
    }
   ],
   "source": [
    "rep1_barcodes = pd.read_csv('rat39_3a_1a/barcodes.tsv.gz', header=None)[0].values\n",
    "rep1_barcodes = {x: n for n,x in enumerate(rep1_barcodes)}\n",
    "len(rep1_barcodes)"
   ]
  },
  {
   "cell_type": "code",
   "execution_count": 5,
   "metadata": {},
   "outputs": [
    {
     "data": {
      "text/plain": [
       "1566"
      ]
     },
     "execution_count": 5,
     "metadata": {},
     "output_type": "execute_result"
    }
   ],
   "source": [
    "rep2_barcodes = pd.read_csv('rat39_3c/barcodes.tsv.gz', header=None)[0].values\n",
    "rep2_barcodes = {x: n for n,x in enumerate(rep2_barcodes)}\n",
    "len(rep2_barcodes)"
   ]
  },
  {
   "cell_type": "code",
   "execution_count": 6,
   "metadata": {},
   "outputs": [
    {
     "data": {
      "text/plain": [
       "7"
      ]
     },
     "execution_count": 6,
     "metadata": {},
     "output_type": "execute_result"
    }
   ],
   "source": [
    "only_rep_2 = set(rep2_barcodes.keys()).difference(rep1_barcodes)\n",
    "len(only_rep_2)"
   ]
  },
  {
   "cell_type": "code",
   "execution_count": 16,
   "metadata": {},
   "outputs": [],
   "source": [
    "mat1 = mmread('rat39_3a_1a/matrix.mtx.gz')\n",
    "mat2 = mmread('rat39_3c/matrix.mtx.gz')"
   ]
  },
  {
   "cell_type": "code",
   "execution_count": 8,
   "metadata": {},
   "outputs": [],
   "source": [
    "mat2 = mat2.tocsr()#matrix to compressed sparse row"
   ]
  },
  {
   "cell_type": "code",
   "execution_count": 9,
   "metadata": {},
   "outputs": [
    {
     "data": {
      "text/plain": [
       "((66425, 1577), (66425, 1566))"
      ]
     },
     "execution_count": 9,
     "metadata": {},
     "output_type": "execute_result"
    }
   ],
   "source": [
    "mat1.shape, mat2.shape"
   ]
  },
  {
   "cell_type": "code",
   "execution_count": 51,
   "metadata": {},
   "outputs": [
    {
     "data": {
      "text/plain": [
       "<66425x7 sparse matrix of type '<class 'numpy.int64'>'\n",
       "\twith 2466 stored elements in Compressed Sparse Row format>"
      ]
     },
     "execution_count": 51,
     "metadata": {},
     "output_type": "execute_result"
    }
   ],
   "source": [
    "rep2_subset = mat2[:, sorted([rep2_barcodes[x] for x in only_rep_2])]\n",
    "rep2_subset"
   ]
  },
  {
   "cell_type": "code",
   "execution_count": 12,
   "metadata": {},
   "outputs": [
    {
     "ename": "SyntaxError",
     "evalue": "invalid syntax (<ipython-input-12-9e7a87ae06be>, line 1)",
     "output_type": "error",
     "traceback": [
      "\u001b[0;36m  File \u001b[0;32m\"<ipython-input-12-9e7a87ae06be>\"\u001b[0;36m, line \u001b[0;32m1\u001b[0m\n\u001b[0;31m    common_rep2 = mat2[:, !sorted([rep2_barcodes[x] for x in only_rep_2])]\u001b[0m\n\u001b[0m                          ^\u001b[0m\n\u001b[0;31mSyntaxError\u001b[0m\u001b[0;31m:\u001b[0m invalid syntax\n"
     ]
    }
   ],
   "source": [
    "common_rep2 = mat2[:, sorted([rep2_barcodes[x] for x in only_rep_2])]"
   ]
  },
  {
   "cell_type": "code",
   "execution_count": null,
   "metadata": {},
   "outputs": [],
   "source": []
  },
  {
   "cell_type": "code",
   "execution_count": 61,
   "metadata": {},
   "outputs": [],
   "source": [
    "mmwrite('merged_dups/matrix.mtx', hstack((mat1, rep2_subset)))"
   ]
  },
  {
   "cell_type": "code",
   "execution_count": 63,
   "metadata": {},
   "outputs": [],
   "source": [
    "with open('./merged_dups/barcodes.tsv', 'w') as OUT:\n",
    "    OUT.write('\\n'.join(list(rep1_barcodes.keys()) + list(only_rep_2)))"
   ]
  },
  {
   "cell_type": "code",
   "execution_count": null,
   "metadata": {},
   "outputs": [],
   "source": []
  }
 ],
 "metadata": {
  "kernelspec": {
   "display_name": "Python 3",
   "language": "python",
   "name": "python3"
  },
  "language_info": {
   "codemirror_mode": {
    "name": "ipython",
    "version": 3
   },
   "file_extension": ".py",
   "mimetype": "text/x-python",
   "name": "python",
   "nbconvert_exporter": "python",
   "pygments_lexer": "ipython3",
   "version": "3.7.9"
  }
 },
 "nbformat": 4,
 "nbformat_minor": 4
}
