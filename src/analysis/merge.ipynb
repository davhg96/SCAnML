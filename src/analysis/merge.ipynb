{
 "cells": [
  {
   "cell_type": "code",
   "execution_count": 3,
   "metadata": {},
   "outputs": [
    {
     "name": "stdout",
     "output_type": "stream",
     "text": [
      "/Users/student/LUNI/SCvsSN/data/matrixes/mtxmultispecies\n"
     ]
    }
   ],
   "source": [
    "cd ~/LUNI/SCvsSN/data/matrixes/mtxmultispecies"
   ]
  },
  {
   "cell_type": "code",
   "execution_count": 31,
   "metadata": {},
   "outputs": [],
   "source": [
    "!mkdir merged_dups2"
   ]
  },
  {
   "cell_type": "code",
   "execution_count": null,
   "metadata": {},
   "outputs": [],
   "source": []
  },
  {
   "cell_type": "code",
   "execution_count": 4,
   "metadata": {},
   "outputs": [],
   "source": [
    "from scipy.io import mmread, mmwrite\n",
    "from scipy.sparse import vstack, hstack\n",
    "import pandas as pd"
   ]
  },
  {
   "cell_type": "code",
   "execution_count": 5,
   "metadata": {},
   "outputs": [
    {
     "data": {
      "text/plain": [
       "1577"
      ]
     },
     "execution_count": 5,
     "metadata": {},
     "output_type": "execute_result"
    }
   ],
   "source": [
    "rep1_barcodes = pd.read_csv('rat39_3a_1a/barcodes.tsv.gz', header=None)[0].values\n",
    "rep1_barcodes = {x: n for n,x in enumerate(rep1_barcodes)}\n",
    "len(rep1_barcodes)"
   ]
  },
  {
   "cell_type": "code",
   "execution_count": 6,
   "metadata": {},
   "outputs": [
    {
     "data": {
      "text/plain": [
       "1566"
      ]
     },
     "execution_count": 6,
     "metadata": {},
     "output_type": "execute_result"
    }
   ],
   "source": [
    "rep2_barcodes = pd.read_csv('rat39_3c/barcodes.tsv.gz', header=None)[0].values\n",
    "rep2_barcodes = {x: n for n,x in enumerate(rep2_barcodes)}\n",
    "len(rep2_barcodes)"
   ]
  },
  {
   "cell_type": "code",
   "execution_count": 15,
   "metadata": {},
   "outputs": [
    {
     "data": {
      "text/plain": [
       "18"
      ]
     },
     "execution_count": 15,
     "metadata": {},
     "output_type": "execute_result"
    }
   ],
   "source": [
    "only_rep_1 = set(rep1_barcodes.keys()).difference(rep2_barcodes)\n",
    "len(only_rep_1)"
   ]
  },
  {
   "cell_type": "code",
   "execution_count": 25,
   "metadata": {},
   "outputs": [
    {
     "data": {
      "text/plain": [
       "7"
      ]
     },
     "execution_count": 25,
     "metadata": {},
     "output_type": "execute_result"
    }
   ],
   "source": [
    "only_rep_2 = set(rep2_barcodes.keys()).difference(rep1_barcodes)\n",
    "len(only_rep_2)"
   ]
  },
  {
   "cell_type": "code",
   "execution_count": 26,
   "metadata": {},
   "outputs": [
    {
     "data": {
      "text/plain": [
       "1559"
      ]
     },
     "execution_count": 26,
     "metadata": {},
     "output_type": "execute_result"
    }
   ],
   "source": [
    "common = set(rep2_barcodes.keys()).intersection(rep1_barcodes)\n",
    "len(common)"
   ]
  },
  {
   "cell_type": "code",
   "execution_count": 8,
   "metadata": {},
   "outputs": [],
   "source": [
    "mat1 = mmread('rat39_3a_1a/matrix.mtx.gz')\n",
    "mat2 = mmread('rat39_3c/matrix.mtx.gz')"
   ]
  },
  {
   "cell_type": "code",
   "execution_count": 18,
   "metadata": {},
   "outputs": [],
   "source": [
    "mat1 = mat1.tocsr()\n",
    "mat2 = mat2.tocsr()#matrix to compressed sparse row"
   ]
  },
  {
   "cell_type": "code",
   "execution_count": 19,
   "metadata": {},
   "outputs": [
    {
     "data": {
      "text/plain": [
       "((66425, 1577), (66425, 1566))"
      ]
     },
     "execution_count": 19,
     "metadata": {},
     "output_type": "execute_result"
    }
   ],
   "source": [
    "mat1.shape, mat2.shape"
   ]
  },
  {
   "cell_type": "code",
   "execution_count": 23,
   "metadata": {},
   "outputs": [
    {
     "data": {
      "text/plain": [
       "<66425x18 sparse matrix of type '<class 'numpy.int64'>'\n",
       "\twith 6996 stored elements in Compressed Sparse Row format>"
      ]
     },
     "execution_count": 23,
     "metadata": {},
     "output_type": "execute_result"
    }
   ],
   "source": [
    "rep1_subset = mat1[:, sorted([rep1_barcodes[x] for x in only_rep_1])]\n",
    "rep1_subset"
   ]
  },
  {
   "cell_type": "code",
   "execution_count": 27,
   "metadata": {},
   "outputs": [
    {
     "data": {
      "text/plain": [
       "<66425x7 sparse matrix of type '<class 'numpy.int64'>'\n",
       "\twith 2466 stored elements in Compressed Sparse Row format>"
      ]
     },
     "execution_count": 27,
     "metadata": {},
     "output_type": "execute_result"
    }
   ],
   "source": [
    "rep2_subset = mat2[:, sorted([rep2_barcodes[x] for x in only_rep_2])]\n",
    "rep2_subset"
   ]
  },
  {
   "cell_type": "code",
   "execution_count": 30,
   "metadata": {},
   "outputs": [
    {
     "data": {
      "text/plain": [
       "<66425x1559 sparse matrix of type '<class 'numpy.int64'>'\n",
       "\twith 3770348 stored elements in Compressed Sparse Row format>"
      ]
     },
     "execution_count": 30,
     "metadata": {},
     "output_type": "execute_result"
    }
   ],
   "source": [
    "common_subset = mat1[:, sorted([rep1_barcodes[x] for x in common])]+mat2[:, sorted([rep2_barcodes[x] for x in common])]\n",
    "common_subset"
   ]
  },
  {
   "cell_type": "code",
   "execution_count": 37,
   "metadata": {},
   "outputs": [],
   "source": [
    "mmwrite('merged_dups2/matrix.mtx', hstack((common_subset,rep1_subset, rep2_subset)))"
   ]
  },
  {
   "cell_type": "code",
   "execution_count": 38,
   "metadata": {},
   "outputs": [],
   "source": [
    "with open('./merged_dups2/barcodes.tsv', 'w') as OUT:\n",
    "    OUT.write('\\n'.join(list(rep1_barcodes.keys()) + list(only_rep_2)))"
   ]
  }
 ],
 "metadata": {
  "kernelspec": {
   "display_name": "Python 3",
   "language": "python",
   "name": "python3"
  },
  "language_info": {
   "codemirror_mode": {
    "name": "ipython",
    "version": 3
   },
   "file_extension": ".py",
   "mimetype": "text/x-python",
   "name": "python",
   "nbconvert_exporter": "python",
   "pygments_lexer": "ipython3",
   "version": "3.7.9"
  }
 },
 "nbformat": 4,
 "nbformat_minor": 4
}
